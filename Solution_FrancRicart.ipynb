{
 "cells": [
  {
   "cell_type": "markdown",
   "id": "d59db3d0",
   "metadata": {},
   "source": [
    "# Lab | Cleaning numerical data\n",
    "For this lab, we will be using the dataset in the Customer Analysis Business Case. This dataset can be found in files_for_lab folder.\n",
    "\n",
    "## Context\n",
    "An auto insurance company has collected some data about its customers including their demographics, education, employment, policy details, vehicle information on which insurance policy is, and claim amounts. You will help the senior management with some business questions that will help them to better understand their customers, improve their services, and improve profitability.\n",
    "\n",
    "#### Some business Objectives:\n",
    "\n",
    "- Retain customers,\n",
    "- Analyze relevant customer data,\n",
    "- Develop focused customer retention programs.\n",
    "\n",
    "Based on the analysis, take targeted actions to increase profitable customer response, retention, and growth.\n",
    "\n",
    "## Instructions \n",
    "\n",
    "1. Import the necessary libraries.\n",
    "2. Load the we_fn_use_c_marketing_customer_value_analysis.csv into the variable customer_df.\n",
    "3. First look at its main features (head, shape, info).\n",
    "4. Rename the columns so they follow the PE8 (snake case).\n",
    "5. Change effective to date column to datetime format.\n",
    "\n",
    "6. Define a function that differentiates between continuous and discrete variables. Hint: The number of unique values might be useful. Store continuous data into a continuous_df variable and do the same for discrete_df\n",
    "\n",
    "7. Plot a correlation matrix, comment what you see.\n",
    "\n",
    "8. \n",
    "    - Create a function to plot every discrete variable. \n",
    "    - Do the same with the continuous variables (Be Careful, you may need to change the plot type to one better suited for continuous data!)\n",
    "\n",
    "9. Comment what you can see in the plots.\n",
    "\n",
    "10. Look for outliers in the continuous variables. (HINT: There’s a good plot to do that!)\n",
    "\n",
    "11. Did you find outliers? Comment what you will do with them.\n",
    "\n",
    "12. Check all columns for NaN values. Decide what (if anything) you will need to do with them."
   ]
  },
  {
   "cell_type": "markdown",
   "id": "60fbdb45",
   "metadata": {},
   "source": [
    "## 1. Import the necessary libraries."
   ]
  },
  {
   "cell_type": "code",
   "execution_count": 1,
   "id": "dd2cf739",
   "metadata": {},
   "outputs": [],
   "source": [
    "import pandas as pd\n",
    "import numpy as np\n",
    "\n",
    "import matplotlib.pyplot as plt\n",
    "%matplotlib inline\n",
    "\n",
    "import seaborn as sns"
   ]
  },
  {
   "cell_type": "markdown",
   "id": "7830f5b9",
   "metadata": {},
   "source": [
    "## 2. Load the we_fn_use_c_marketing_customer_value_analysis.csv into the variable customer_df."
   ]
  },
  {
   "cell_type": "code",
   "execution_count": 3,
   "id": "65754fd1",
   "metadata": {},
   "outputs": [],
   "source": [
    "customer_df = pd.read_csv(\"files_for_lab/we_fn_use_c_marketing_customer_value_analysis.csv\")"
   ]
  },
  {
   "cell_type": "markdown",
   "id": "43ff0ab9",
   "metadata": {},
   "source": [
    "## 3. First look at its main features (head, shape, info).\n"
   ]
  },
  {
   "cell_type": "code",
   "execution_count": 4,
   "id": "e67f556e",
   "metadata": {},
   "outputs": [
    {
     "data": {
      "text/html": [
       "<div>\n",
       "<style scoped>\n",
       "    .dataframe tbody tr th:only-of-type {\n",
       "        vertical-align: middle;\n",
       "    }\n",
       "\n",
       "    .dataframe tbody tr th {\n",
       "        vertical-align: top;\n",
       "    }\n",
       "\n",
       "    .dataframe thead th {\n",
       "        text-align: right;\n",
       "    }\n",
       "</style>\n",
       "<table border=\"1\" class=\"dataframe\">\n",
       "  <thead>\n",
       "    <tr style=\"text-align: right;\">\n",
       "      <th></th>\n",
       "      <th>Customer</th>\n",
       "      <th>State</th>\n",
       "      <th>Customer Lifetime Value</th>\n",
       "      <th>Response</th>\n",
       "      <th>Coverage</th>\n",
       "      <th>Education</th>\n",
       "      <th>Effective To Date</th>\n",
       "      <th>EmploymentStatus</th>\n",
       "      <th>Gender</th>\n",
       "      <th>Income</th>\n",
       "      <th>...</th>\n",
       "      <th>Months Since Policy Inception</th>\n",
       "      <th>Number of Open Complaints</th>\n",
       "      <th>Number of Policies</th>\n",
       "      <th>Policy Type</th>\n",
       "      <th>Policy</th>\n",
       "      <th>Renew Offer Type</th>\n",
       "      <th>Sales Channel</th>\n",
       "      <th>Total Claim Amount</th>\n",
       "      <th>Vehicle Class</th>\n",
       "      <th>Vehicle Size</th>\n",
       "    </tr>\n",
       "  </thead>\n",
       "  <tbody>\n",
       "    <tr>\n",
       "      <th>0</th>\n",
       "      <td>BU79786</td>\n",
       "      <td>Washington</td>\n",
       "      <td>2763.519279</td>\n",
       "      <td>No</td>\n",
       "      <td>Basic</td>\n",
       "      <td>Bachelor</td>\n",
       "      <td>2/24/11</td>\n",
       "      <td>Employed</td>\n",
       "      <td>F</td>\n",
       "      <td>56274</td>\n",
       "      <td>...</td>\n",
       "      <td>5</td>\n",
       "      <td>0</td>\n",
       "      <td>1</td>\n",
       "      <td>Corporate Auto</td>\n",
       "      <td>Corporate L3</td>\n",
       "      <td>Offer1</td>\n",
       "      <td>Agent</td>\n",
       "      <td>384.811147</td>\n",
       "      <td>Two-Door Car</td>\n",
       "      <td>Medsize</td>\n",
       "    </tr>\n",
       "    <tr>\n",
       "      <th>1</th>\n",
       "      <td>QZ44356</td>\n",
       "      <td>Arizona</td>\n",
       "      <td>6979.535903</td>\n",
       "      <td>No</td>\n",
       "      <td>Extended</td>\n",
       "      <td>Bachelor</td>\n",
       "      <td>1/31/11</td>\n",
       "      <td>Unemployed</td>\n",
       "      <td>F</td>\n",
       "      <td>0</td>\n",
       "      <td>...</td>\n",
       "      <td>42</td>\n",
       "      <td>0</td>\n",
       "      <td>8</td>\n",
       "      <td>Personal Auto</td>\n",
       "      <td>Personal L3</td>\n",
       "      <td>Offer3</td>\n",
       "      <td>Agent</td>\n",
       "      <td>1131.464935</td>\n",
       "      <td>Four-Door Car</td>\n",
       "      <td>Medsize</td>\n",
       "    </tr>\n",
       "    <tr>\n",
       "      <th>2</th>\n",
       "      <td>AI49188</td>\n",
       "      <td>Nevada</td>\n",
       "      <td>12887.431650</td>\n",
       "      <td>No</td>\n",
       "      <td>Premium</td>\n",
       "      <td>Bachelor</td>\n",
       "      <td>2/19/11</td>\n",
       "      <td>Employed</td>\n",
       "      <td>F</td>\n",
       "      <td>48767</td>\n",
       "      <td>...</td>\n",
       "      <td>38</td>\n",
       "      <td>0</td>\n",
       "      <td>2</td>\n",
       "      <td>Personal Auto</td>\n",
       "      <td>Personal L3</td>\n",
       "      <td>Offer1</td>\n",
       "      <td>Agent</td>\n",
       "      <td>566.472247</td>\n",
       "      <td>Two-Door Car</td>\n",
       "      <td>Medsize</td>\n",
       "    </tr>\n",
       "    <tr>\n",
       "      <th>3</th>\n",
       "      <td>WW63253</td>\n",
       "      <td>California</td>\n",
       "      <td>7645.861827</td>\n",
       "      <td>No</td>\n",
       "      <td>Basic</td>\n",
       "      <td>Bachelor</td>\n",
       "      <td>1/20/11</td>\n",
       "      <td>Unemployed</td>\n",
       "      <td>M</td>\n",
       "      <td>0</td>\n",
       "      <td>...</td>\n",
       "      <td>65</td>\n",
       "      <td>0</td>\n",
       "      <td>7</td>\n",
       "      <td>Corporate Auto</td>\n",
       "      <td>Corporate L2</td>\n",
       "      <td>Offer1</td>\n",
       "      <td>Call Center</td>\n",
       "      <td>529.881344</td>\n",
       "      <td>SUV</td>\n",
       "      <td>Medsize</td>\n",
       "    </tr>\n",
       "    <tr>\n",
       "      <th>4</th>\n",
       "      <td>HB64268</td>\n",
       "      <td>Washington</td>\n",
       "      <td>2813.692575</td>\n",
       "      <td>No</td>\n",
       "      <td>Basic</td>\n",
       "      <td>Bachelor</td>\n",
       "      <td>2/3/11</td>\n",
       "      <td>Employed</td>\n",
       "      <td>M</td>\n",
       "      <td>43836</td>\n",
       "      <td>...</td>\n",
       "      <td>44</td>\n",
       "      <td>0</td>\n",
       "      <td>1</td>\n",
       "      <td>Personal Auto</td>\n",
       "      <td>Personal L1</td>\n",
       "      <td>Offer1</td>\n",
       "      <td>Agent</td>\n",
       "      <td>138.130879</td>\n",
       "      <td>Four-Door Car</td>\n",
       "      <td>Medsize</td>\n",
       "    </tr>\n",
       "  </tbody>\n",
       "</table>\n",
       "<p>5 rows × 24 columns</p>\n",
       "</div>"
      ],
      "text/plain": [
       "  Customer       State  Customer Lifetime Value Response  Coverage Education  \\\n",
       "0  BU79786  Washington              2763.519279       No     Basic  Bachelor   \n",
       "1  QZ44356     Arizona              6979.535903       No  Extended  Bachelor   \n",
       "2  AI49188      Nevada             12887.431650       No   Premium  Bachelor   \n",
       "3  WW63253  California              7645.861827       No     Basic  Bachelor   \n",
       "4  HB64268  Washington              2813.692575       No     Basic  Bachelor   \n",
       "\n",
       "  Effective To Date EmploymentStatus Gender  Income  ...  \\\n",
       "0           2/24/11         Employed      F   56274  ...   \n",
       "1           1/31/11       Unemployed      F       0  ...   \n",
       "2           2/19/11         Employed      F   48767  ...   \n",
       "3           1/20/11       Unemployed      M       0  ...   \n",
       "4            2/3/11         Employed      M   43836  ...   \n",
       "\n",
       "  Months Since Policy Inception Number of Open Complaints  Number of Policies  \\\n",
       "0                             5                         0                   1   \n",
       "1                            42                         0                   8   \n",
       "2                            38                         0                   2   \n",
       "3                            65                         0                   7   \n",
       "4                            44                         0                   1   \n",
       "\n",
       "      Policy Type        Policy  Renew Offer Type  Sales Channel  \\\n",
       "0  Corporate Auto  Corporate L3            Offer1          Agent   \n",
       "1   Personal Auto   Personal L3            Offer3          Agent   \n",
       "2   Personal Auto   Personal L3            Offer1          Agent   \n",
       "3  Corporate Auto  Corporate L2            Offer1    Call Center   \n",
       "4   Personal Auto   Personal L1            Offer1          Agent   \n",
       "\n",
       "  Total Claim Amount  Vehicle Class Vehicle Size  \n",
       "0         384.811147   Two-Door Car      Medsize  \n",
       "1        1131.464935  Four-Door Car      Medsize  \n",
       "2         566.472247   Two-Door Car      Medsize  \n",
       "3         529.881344            SUV      Medsize  \n",
       "4         138.130879  Four-Door Car      Medsize  \n",
       "\n",
       "[5 rows x 24 columns]"
      ]
     },
     "execution_count": 4,
     "metadata": {},
     "output_type": "execute_result"
    }
   ],
   "source": [
    "customer_df.head()"
   ]
  },
  {
   "cell_type": "code",
   "execution_count": 6,
   "id": "50c9aef4",
   "metadata": {},
   "outputs": [
    {
     "data": {
      "text/plain": [
       "(9134, 24)"
      ]
     },
     "execution_count": 6,
     "metadata": {},
     "output_type": "execute_result"
    }
   ],
   "source": [
    "customer_df.shape"
   ]
  },
  {
   "cell_type": "code",
   "execution_count": 7,
   "id": "0d396365",
   "metadata": {},
   "outputs": [
    {
     "name": "stdout",
     "output_type": "stream",
     "text": [
      "<class 'pandas.core.frame.DataFrame'>\n",
      "RangeIndex: 9134 entries, 0 to 9133\n",
      "Data columns (total 24 columns):\n",
      " #   Column                         Non-Null Count  Dtype  \n",
      "---  ------                         --------------  -----  \n",
      " 0   Customer                       9134 non-null   object \n",
      " 1   State                          9134 non-null   object \n",
      " 2   Customer Lifetime Value        9134 non-null   float64\n",
      " 3   Response                       9134 non-null   object \n",
      " 4   Coverage                       9134 non-null   object \n",
      " 5   Education                      9134 non-null   object \n",
      " 6   Effective To Date              9134 non-null   object \n",
      " 7   EmploymentStatus               9134 non-null   object \n",
      " 8   Gender                         9134 non-null   object \n",
      " 9   Income                         9134 non-null   int64  \n",
      " 10  Location Code                  9134 non-null   object \n",
      " 11  Marital Status                 9134 non-null   object \n",
      " 12  Monthly Premium Auto           9134 non-null   int64  \n",
      " 13  Months Since Last Claim        9134 non-null   int64  \n",
      " 14  Months Since Policy Inception  9134 non-null   int64  \n",
      " 15  Number of Open Complaints      9134 non-null   int64  \n",
      " 16  Number of Policies             9134 non-null   int64  \n",
      " 17  Policy Type                    9134 non-null   object \n",
      " 18  Policy                         9134 non-null   object \n",
      " 19  Renew Offer Type               9134 non-null   object \n",
      " 20  Sales Channel                  9134 non-null   object \n",
      " 21  Total Claim Amount             9134 non-null   float64\n",
      " 22  Vehicle Class                  9134 non-null   object \n",
      " 23  Vehicle Size                   9134 non-null   object \n",
      "dtypes: float64(2), int64(6), object(16)\n",
      "memory usage: 1.7+ MB\n"
     ]
    }
   ],
   "source": [
    "customer_df.info()"
   ]
  },
  {
   "cell_type": "markdown",
   "id": "9e149b73",
   "metadata": {},
   "source": [
    "## 4. Rename the columns so they follow the PE8 (snake case) (lower_case_with_underscores)\n"
   ]
  },
  {
   "cell_type": "code",
   "execution_count": 31,
   "id": "5e3d3318",
   "metadata": {},
   "outputs": [
    {
     "name": "stdout",
     "output_type": "stream",
     "text": [
      "Index(['customer', 'state', 'customer_lifetime_value', 'response', 'coverage',\n",
      "       'education', 'effective_to_date', 'employment_status', 'gender',\n",
      "       'income', 'location_code', 'marital_status', 'monthly_premium_auto',\n",
      "       'months_since_last_claim', 'months_since_policy_inception',\n",
      "       'number_of_open_complaints', 'number_of_policies', 'policy_type',\n",
      "       'policy', 'renew_offer_type', 'sales_channel', 'total_claim_amount',\n",
      "       'vehicle_class', 'vehicle_size'],\n",
      "      dtype='object')\n"
     ]
    }
   ],
   "source": [
    "customer_df.columns = [header.lower().replace(' ', '_') for header in list(customer_df.columns)]\n",
    "customer_df = customer_df.rename(columns = {'employmentstatus': 'employment_status'})\n",
    "\n",
    "print(customer_df.columns)"
   ]
  },
  {
   "cell_type": "markdown",
   "id": "6fa25e89",
   "metadata": {},
   "source": [
    "## 5. Change effective to date column to datetime format."
   ]
  },
  {
   "cell_type": "code",
   "execution_count": 32,
   "id": "b6a62041",
   "metadata": {},
   "outputs": [
    {
     "name": "stdout",
     "output_type": "stream",
     "text": [
      "<class 'pandas.core.series.Series'>\n",
      "RangeIndex: 9134 entries, 0 to 9133\n",
      "Series name: effective_to_date\n",
      "Non-Null Count  Dtype         \n",
      "--------------  -----         \n",
      "9134 non-null   datetime64[ns]\n",
      "dtypes: datetime64[ns](1)\n",
      "memory usage: 71.5 KB\n"
     ]
    }
   ],
   "source": [
    "customer_df[\"effective_to_date\"] = pd.to_datetime(customer_df[\"effective_to_date\"])\n",
    "customer_df[\"effective_to_date\"].info()"
   ]
  },
  {
   "cell_type": "markdown",
   "id": "88672223",
   "metadata": {},
   "source": [
    "## 6. Define a function that differentiates between continuous and discrete variables. \n",
    "Hint: The number of unique values might be useful. Store continuous data into a continuous_df variable and do the same for discrete_df\n"
   ]
  },
  {
   "cell_type": "code",
   "execution_count": 33,
   "id": "989eed71",
   "metadata": {},
   "outputs": [],
   "source": [
    "numerical = customer_df.select_dtypes(include='number')\n",
    "categorical = customer_df.select_dtypes(include=object)"
   ]
  },
  {
   "cell_type": "code",
   "execution_count": 38,
   "id": "6ffd6e2e",
   "metadata": {},
   "outputs": [
    {
     "name": "stdout",
     "output_type": "stream",
     "text": [
      "Numerical columns: ['customer_lifetime_value', 'income', 'monthly_premium_auto', 'months_since_last_claim', 'months_since_policy_inception', 'number_of_open_complaints', 'number_of_policies', 'total_claim_amount']\n"
     ]
    }
   ],
   "source": [
    "numerical_cols = list(numerical.columns)\n",
    "print('Numerical columns:', numerical_cols)"
   ]
  },
  {
   "cell_type": "code",
   "execution_count": 20,
   "id": "c131a9fe",
   "metadata": {},
   "outputs": [
    {
     "name": "stdout",
     "output_type": "stream",
     "text": [
      "customer_lifetime_value ---- 8041\n",
      "income ---- 5694\n",
      "monthly_premium_auto ---- 202\n",
      "months_since_last_claim ---- 36\n",
      "months_since_policy_inception ---- 100\n",
      "number_of_open_complaints ---- 6\n",
      "number_of_policies ---- 9\n",
      "total_claim_amount ---- 5106\n"
     ]
    }
   ],
   "source": [
    "#We check how many unique values are there in each numeric column.\n",
    "\n",
    "for col in customer_df.select_dtypes(np.number):\n",
    "    print(col, \"----\", customer_df[col].nunique())"
   ]
  },
  {
   "cell_type": "markdown",
   "id": "42029570",
   "metadata": {},
   "source": [
    "It seems that there are 2 kind of unique value sets: one with +5k and the other with lower numbers. This might indicate which are continuous and which are discrete."
   ]
  },
  {
   "cell_type": "code",
   "execution_count": 40,
   "id": "66dc25f9",
   "metadata": {},
   "outputs": [],
   "source": [
    "def continuous_or_discrete(df, threshold = 0.1):\n",
    "    discrete_cols = []\n",
    "    continuous_cols = []\n",
    "\n",
    "    for col in df.columns:\n",
    "        unique_values = df[col].nunique()\n",
    "        if unique_values <=len(df)*threshold:\n",
    "            discrete_cols.append(col)\n",
    "        else:\n",
    "            continuous_cols.append(col)\n",
    "\n",
    "    return discrete_cols, continuous_cols"
   ]
  },
  {
   "cell_type": "code",
   "execution_count": 46,
   "id": "6e35d87e",
   "metadata": {},
   "outputs": [
    {
     "name": "stdout",
     "output_type": "stream",
     "text": [
      "Discrete cols ['monthly_premium_auto', 'months_since_last_claim', 'months_since_policy_inception', 'number_of_open_complaints', 'number_of_policies']\n",
      "\n",
      "Continuous cols ['customer_lifetime_value', 'income', 'total_claim_amount']\n"
     ]
    }
   ],
   "source": [
    "discrete, continuous = continuous_or_discrete(numerical)\n",
    "\n",
    "print('Discrete cols:', discrete)\n",
    "print('')\n",
    "print('Continuous cols:', continuous)"
   ]
  },
  {
   "cell_type": "code",
   "execution_count": 52,
   "id": "c1c4b04a",
   "metadata": {},
   "outputs": [
    {
     "data": {
      "text/html": [
       "<div>\n",
       "<style scoped>\n",
       "    .dataframe tbody tr th:only-of-type {\n",
       "        vertical-align: middle;\n",
       "    }\n",
       "\n",
       "    .dataframe tbody tr th {\n",
       "        vertical-align: top;\n",
       "    }\n",
       "\n",
       "    .dataframe thead th {\n",
       "        text-align: right;\n",
       "    }\n",
       "</style>\n",
       "<table border=\"1\" class=\"dataframe\">\n",
       "  <thead>\n",
       "    <tr style=\"text-align: right;\">\n",
       "      <th></th>\n",
       "      <th>monthly_premium_auto</th>\n",
       "      <th>months_since_last_claim</th>\n",
       "      <th>months_since_policy_inception</th>\n",
       "      <th>number_of_open_complaints</th>\n",
       "      <th>number_of_policies</th>\n",
       "    </tr>\n",
       "  </thead>\n",
       "  <tbody>\n",
       "    <tr>\n",
       "      <th>0</th>\n",
       "      <td>69</td>\n",
       "      <td>32</td>\n",
       "      <td>5</td>\n",
       "      <td>0</td>\n",
       "      <td>1</td>\n",
       "    </tr>\n",
       "    <tr>\n",
       "      <th>1</th>\n",
       "      <td>94</td>\n",
       "      <td>13</td>\n",
       "      <td>42</td>\n",
       "      <td>0</td>\n",
       "      <td>8</td>\n",
       "    </tr>\n",
       "    <tr>\n",
       "      <th>2</th>\n",
       "      <td>108</td>\n",
       "      <td>18</td>\n",
       "      <td>38</td>\n",
       "      <td>0</td>\n",
       "      <td>2</td>\n",
       "    </tr>\n",
       "    <tr>\n",
       "      <th>3</th>\n",
       "      <td>106</td>\n",
       "      <td>18</td>\n",
       "      <td>65</td>\n",
       "      <td>0</td>\n",
       "      <td>7</td>\n",
       "    </tr>\n",
       "    <tr>\n",
       "      <th>4</th>\n",
       "      <td>73</td>\n",
       "      <td>12</td>\n",
       "      <td>44</td>\n",
       "      <td>0</td>\n",
       "      <td>1</td>\n",
       "    </tr>\n",
       "    <tr>\n",
       "      <th>...</th>\n",
       "      <td>...</td>\n",
       "      <td>...</td>\n",
       "      <td>...</td>\n",
       "      <td>...</td>\n",
       "      <td>...</td>\n",
       "    </tr>\n",
       "    <tr>\n",
       "      <th>9129</th>\n",
       "      <td>73</td>\n",
       "      <td>18</td>\n",
       "      <td>89</td>\n",
       "      <td>0</td>\n",
       "      <td>2</td>\n",
       "    </tr>\n",
       "    <tr>\n",
       "      <th>9130</th>\n",
       "      <td>79</td>\n",
       "      <td>14</td>\n",
       "      <td>28</td>\n",
       "      <td>0</td>\n",
       "      <td>1</td>\n",
       "    </tr>\n",
       "    <tr>\n",
       "      <th>9131</th>\n",
       "      <td>85</td>\n",
       "      <td>9</td>\n",
       "      <td>37</td>\n",
       "      <td>3</td>\n",
       "      <td>2</td>\n",
       "    </tr>\n",
       "    <tr>\n",
       "      <th>9132</th>\n",
       "      <td>96</td>\n",
       "      <td>34</td>\n",
       "      <td>3</td>\n",
       "      <td>0</td>\n",
       "      <td>3</td>\n",
       "    </tr>\n",
       "    <tr>\n",
       "      <th>9133</th>\n",
       "      <td>77</td>\n",
       "      <td>3</td>\n",
       "      <td>90</td>\n",
       "      <td>0</td>\n",
       "      <td>1</td>\n",
       "    </tr>\n",
       "  </tbody>\n",
       "</table>\n",
       "<p>9134 rows × 5 columns</p>\n",
       "</div>"
      ],
      "text/plain": [
       "      monthly_premium_auto  months_since_last_claim  \\\n",
       "0                       69                       32   \n",
       "1                       94                       13   \n",
       "2                      108                       18   \n",
       "3                      106                       18   \n",
       "4                       73                       12   \n",
       "...                    ...                      ...   \n",
       "9129                    73                       18   \n",
       "9130                    79                       14   \n",
       "9131                    85                        9   \n",
       "9132                    96                       34   \n",
       "9133                    77                        3   \n",
       "\n",
       "      months_since_policy_inception  number_of_open_complaints  \\\n",
       "0                                 5                          0   \n",
       "1                                42                          0   \n",
       "2                                38                          0   \n",
       "3                                65                          0   \n",
       "4                                44                          0   \n",
       "...                             ...                        ...   \n",
       "9129                             89                          0   \n",
       "9130                             28                          0   \n",
       "9131                             37                          3   \n",
       "9132                              3                          0   \n",
       "9133                             90                          0   \n",
       "\n",
       "      number_of_policies  \n",
       "0                      1  \n",
       "1                      8  \n",
       "2                      2  \n",
       "3                      7  \n",
       "4                      1  \n",
       "...                  ...  \n",
       "9129                   2  \n",
       "9130                   1  \n",
       "9131                   2  \n",
       "9132                   3  \n",
       "9133                   1  \n",
       "\n",
       "[9134 rows x 5 columns]"
      ]
     },
     "execution_count": 52,
     "metadata": {},
     "output_type": "execute_result"
    }
   ],
   "source": [
    "customer_df[discrete]"
   ]
  },
  {
   "cell_type": "code",
   "execution_count": 53,
   "id": "aec599cc",
   "metadata": {},
   "outputs": [
    {
     "data": {
      "text/html": [
       "<div>\n",
       "<style scoped>\n",
       "    .dataframe tbody tr th:only-of-type {\n",
       "        vertical-align: middle;\n",
       "    }\n",
       "\n",
       "    .dataframe tbody tr th {\n",
       "        vertical-align: top;\n",
       "    }\n",
       "\n",
       "    .dataframe thead th {\n",
       "        text-align: right;\n",
       "    }\n",
       "</style>\n",
       "<table border=\"1\" class=\"dataframe\">\n",
       "  <thead>\n",
       "    <tr style=\"text-align: right;\">\n",
       "      <th></th>\n",
       "      <th>customer_lifetime_value</th>\n",
       "      <th>income</th>\n",
       "      <th>total_claim_amount</th>\n",
       "    </tr>\n",
       "  </thead>\n",
       "  <tbody>\n",
       "    <tr>\n",
       "      <th>0</th>\n",
       "      <td>2763.519279</td>\n",
       "      <td>56274</td>\n",
       "      <td>384.811147</td>\n",
       "    </tr>\n",
       "    <tr>\n",
       "      <th>1</th>\n",
       "      <td>6979.535903</td>\n",
       "      <td>0</td>\n",
       "      <td>1131.464935</td>\n",
       "    </tr>\n",
       "    <tr>\n",
       "      <th>2</th>\n",
       "      <td>12887.431650</td>\n",
       "      <td>48767</td>\n",
       "      <td>566.472247</td>\n",
       "    </tr>\n",
       "    <tr>\n",
       "      <th>3</th>\n",
       "      <td>7645.861827</td>\n",
       "      <td>0</td>\n",
       "      <td>529.881344</td>\n",
       "    </tr>\n",
       "    <tr>\n",
       "      <th>4</th>\n",
       "      <td>2813.692575</td>\n",
       "      <td>43836</td>\n",
       "      <td>138.130879</td>\n",
       "    </tr>\n",
       "    <tr>\n",
       "      <th>...</th>\n",
       "      <td>...</td>\n",
       "      <td>...</td>\n",
       "      <td>...</td>\n",
       "    </tr>\n",
       "    <tr>\n",
       "      <th>9129</th>\n",
       "      <td>23405.987980</td>\n",
       "      <td>71941</td>\n",
       "      <td>198.234764</td>\n",
       "    </tr>\n",
       "    <tr>\n",
       "      <th>9130</th>\n",
       "      <td>3096.511217</td>\n",
       "      <td>21604</td>\n",
       "      <td>379.200000</td>\n",
       "    </tr>\n",
       "    <tr>\n",
       "      <th>9131</th>\n",
       "      <td>8163.890428</td>\n",
       "      <td>0</td>\n",
       "      <td>790.784983</td>\n",
       "    </tr>\n",
       "    <tr>\n",
       "      <th>9132</th>\n",
       "      <td>7524.442436</td>\n",
       "      <td>21941</td>\n",
       "      <td>691.200000</td>\n",
       "    </tr>\n",
       "    <tr>\n",
       "      <th>9133</th>\n",
       "      <td>2611.836866</td>\n",
       "      <td>0</td>\n",
       "      <td>369.600000</td>\n",
       "    </tr>\n",
       "  </tbody>\n",
       "</table>\n",
       "<p>9134 rows × 3 columns</p>\n",
       "</div>"
      ],
      "text/plain": [
       "      customer_lifetime_value  income  total_claim_amount\n",
       "0                 2763.519279   56274          384.811147\n",
       "1                 6979.535903       0         1131.464935\n",
       "2                12887.431650   48767          566.472247\n",
       "3                 7645.861827       0          529.881344\n",
       "4                 2813.692575   43836          138.130879\n",
       "...                       ...     ...                 ...\n",
       "9129             23405.987980   71941          198.234764\n",
       "9130              3096.511217   21604          379.200000\n",
       "9131              8163.890428       0          790.784983\n",
       "9132              7524.442436   21941          691.200000\n",
       "9133              2611.836866       0          369.600000\n",
       "\n",
       "[9134 rows x 3 columns]"
      ]
     },
     "execution_count": 53,
     "metadata": {},
     "output_type": "execute_result"
    }
   ],
   "source": [
    "customer_df[continuous]"
   ]
  },
  {
   "cell_type": "markdown",
   "id": "924ea48e",
   "metadata": {},
   "source": [
    "## 7. Plot a correlation matrix, comment what you see."
   ]
  },
  {
   "cell_type": "code",
   "execution_count": 54,
   "id": "49d3f5a0",
   "metadata": {},
   "outputs": [
    {
     "data": {
      "text/plain": [
       "<AxesSubplot:>"
      ]
     },
     "execution_count": 54,
     "metadata": {},
     "output_type": "execute_result"
    },
    {
     "data": {
      "image/png": "[encoded data removed]",
      "text/plain": [
       "<Figure size 432x288 with 2 Axes>"
      ]
     },
     "metadata": {
      "needs_background": "light"
     },
     "output_type": "display_data"
    }
   ],
   "source": [
    "sns.heatmap(customer_df.corr(), annot = True)"
   ]
  },
  {
   "cell_type": "markdown",
   "id": "62f84b7c",
   "metadata": {},
   "source": [
    "- There is not a strong correlation between any pair of columns.\n",
    "- There's a slight correlation (0.63) between total_claim_amount and monthly_premium_amount.\n",
    "- There's a slight correlation (0.4) between monthly_premium_auto and customer_lifetime_value.\n",
    "- There's a slight, negative correlation (-0.36) between income and total_claim_amount\n",
    "- Theres a weak correlation (0.23) between total_claim_amount and customer_lifetime_value "
   ]
  },
  {
   "cell_type": "markdown",
   "id": "7dc27b40",
   "metadata": {},
   "source": [
    "## 8.1 Create a function to plot every discrete variable."
   ]
  },
  {
   "cell_type": "code",
   "execution_count": 57,
   "id": "4ca203f5",
   "metadata": {},
   "outputs": [
    {
     "data": {
      "image/png": "[encoded data removed]",
      "text/plain": [
       "<Figure size 360x360 with 1 Axes>"
      ]
     },
     "metadata": {
      "needs_background": "light"
     },
     "output_type": "display_data"
    },
    {
     "data": {
      "image/png": "[encoded data removed]",
      "text/plain": [
       "<Figure size 360x360 with 1 Axes>"
      ]
     },
     "metadata": {
      "needs_background": "light"
     },
     "output_type": "display_data"
    },
    {
     "data": {
      "image/png": "[encoded data removed]",
      "text/plain": [
       "<Figure size 360x360 with 1 Axes>"
      ]
     },
     "metadata": {
      "needs_background": "light"
     },
     "output_type": "display_data"
    },
    {
     "data": {
      "image/png": "[encoded data removed]",
      "text/plain": [
       "<Figure size 360x360 with 1 Axes>"
      ]
     },
     "metadata": {
      "needs_background": "light"
     },
     "output_type": "display_data"
    },
    {
     "data": {
      "image/png": "[encoded data removed]",
      "text/plain": [
       "<Figure size 360x360 with 1 Axes>"
      ]
     },
     "metadata": {
      "needs_background": "light"
     },
     "output_type": "display_data"
    }
   ],
   "source": [
    "for col in numerical[discrete]:\n",
    "    sns.displot(numerical[col])\n",
    "    plt.show()"
   ]
  },
  {
   "cell_type": "markdown",
   "id": "de9b034c",
   "metadata": {},
   "source": [
    "## 8.2 Do the same with the continuous variables"
   ]
  },
  {
   "cell_type": "code",
   "execution_count": 58,
   "id": "d991768a",
   "metadata": {},
   "outputs": [
    {
     "data": {
      "image/png": "[encoded data removed]",
      "text/plain": [
       "<Figure size 432x288 with 1 Axes>"
      ]
     },
     "metadata": {
      "needs_background": "light"
     },
     "output_type": "display_data"
    },
    {
     "data": {
      "image/png": "[encoded data removed]",
      "text/plain": [
       "<Figure size 432x288 with 1 Axes>"
      ]
     },
     "metadata": {
      "needs_background": "light"
     },
     "output_type": "display_data"
    },
    {
     "data": {
      "image/png": "[encoded data removed]",
      "text/plain": [
       "<Figure size 432x288 with 1 Axes>"
      ]
     },
     "metadata": {
      "needs_background": "light"
     },
     "output_type": "display_data"
    }
   ],
   "source": [
    "for col in numerical[continuous]:\n",
    "    sns.histplot(numerical[col])\n",
    "    plt.show()"
   ]
  },
  {
   "cell_type": "markdown",
   "id": "c5809b80",
   "metadata": {},
   "source": [
    "## 9. Comment what you can see in the plots."
   ]
  },
  {
   "cell_type": "markdown",
   "id": "e75cc3ea",
   "metadata": {},
   "source": [
    "In both cases (discrete and continuous), data appears to be right skewed.\n",
    "Once we have more info about outliers we will be able to decide what to do with the tails."
   ]
  },
  {
   "cell_type": "markdown",
   "id": "859045db",
   "metadata": {},
   "source": [
    "## 10. Look for outliers in the continuous variables. (HINT: There’s a good plot to do that!)\n"
   ]
  },
  {
   "cell_type": "code",
   "execution_count": 59,
   "id": "d383e9c7",
   "metadata": {},
   "outputs": [
    {
     "data": {
      "image/png": "[encoded data removed]",
      "text/plain": [
       "<Figure size 432x288 with 1 Axes>"
      ]
     },
     "metadata": {
      "needs_background": "light"
     },
     "output_type": "display_data"
    },
    {
     "data": {
      "image/png": "[encoded data removed]",
      "text/plain": [
       "<Figure size 432x288 with 1 Axes>"
      ]
     },
     "metadata": {
      "needs_background": "light"
     },
     "output_type": "display_data"
    },
    {
     "data": {
      "image/png": "[encoded data removed]",
      "text/plain": [
       "<Figure size 432x288 with 1 Axes>"
      ]
     },
     "metadata": {
      "needs_background": "light"
     },
     "output_type": "display_data"
    }
   ],
   "source": [
    "for col in numerical[continuous]:\n",
    "    sns.boxplot(x = numerical[col])\n",
    "    plt.show()\n"
   ]
  },
  {
   "cell_type": "markdown",
   "id": "9bc14cb2",
   "metadata": {},
   "source": [
    "Total_claim_amount and customer_lifetime_value might contain outliers.\n",
    "Also, as forseen, data seems to be skewed and have long, right tails."
   ]
  },
  {
   "cell_type": "markdown",
   "id": "ce047523",
   "metadata": {},
   "source": [
    "## 11. Did you find outliers? Comment what you will do with them."
   ]
  },
  {
   "cell_type": "markdown",
   "id": "68af0b61",
   "metadata": {},
   "source": [
    "There are outliers in both the customer_lifetime_value and total_claim¨_amount\n",
    "\n",
    "We can drop them using the iqr."
   ]
  },
  {
   "cell_type": "code",
   "execution_count": 62,
   "id": "694dd5ea",
   "metadata": {},
   "outputs": [
    {
     "name": "stdout",
     "output_type": "stream",
     "text": [
      "16414.039911750002\n"
     ]
    },
    {
     "data": {
      "text/plain": [
       "817"
      ]
     },
     "execution_count": 62,
     "metadata": {},
     "output_type": "execute_result"
    }
   ],
   "source": [
    "iqr_clv = np.nanpercentile(customer_continuous[\"customer_lifetime_value\"], 75) - np.nanpercentile(customer_continuous[\"customer_lifetime_value\"], 25)\n",
    "upper_limit_clv = np.nanpercentile(customer_continuous[\"customer_lifetime_value\"], 75) + (1.5 * iqr_clv)\n",
    "print(upper_limit_clv)\n",
    "\n",
    "len(customer_continuous[customer_continuous[\"customer_lifetime_value\"] > upper_limit_clv])"
   ]
  },
  {
   "cell_type": "code",
   "execution_count": 63,
   "id": "504e21c2",
   "metadata": {},
   "outputs": [
    {
     "name": "stdout",
     "output_type": "stream",
     "text": [
      "960.3997301249999\n"
     ]
    },
    {
     "data": {
      "text/plain": [
       "453"
      ]
     },
     "execution_count": 63,
     "metadata": {},
     "output_type": "execute_result"
    }
   ],
   "source": [
    "iqr_tca = np.nanpercentile(customer_continuous[\"total_claim_amount\"], 75) - np.nanpercentile(customer_continuous[\"total_claim_amount\"], 25)\n",
    "upper_limit_tca = np.nanpercentile(customer_continuous[\"total_claim_amount\"], 75) + (1.5 * iqr_tca)\n",
    "print(upper_limit_tca)\n",
    "\n",
    "len(customer_continuous[customer_continuous[\"total_claim_amount\"] > upper_limit_tca])"
   ]
  },
  {
   "cell_type": "code",
   "execution_count": 64,
   "id": "e5dfc86a",
   "metadata": {},
   "outputs": [
    {
     "data": {
      "text/html": [
       "<div>\n",
       "<style scoped>\n",
       "    .dataframe tbody tr th:only-of-type {\n",
       "        vertical-align: middle;\n",
       "    }\n",
       "\n",
       "    .dataframe tbody tr th {\n",
       "        vertical-align: top;\n",
       "    }\n",
       "\n",
       "    .dataframe thead th {\n",
       "        text-align: right;\n",
       "    }\n",
       "</style>\n",
       "<table border=\"1\" class=\"dataframe\">\n",
       "  <thead>\n",
       "    <tr style=\"text-align: right;\">\n",
       "      <th></th>\n",
       "      <th>customer</th>\n",
       "      <th>state</th>\n",
       "      <th>customer_lifetime_value</th>\n",
       "      <th>response</th>\n",
       "      <th>coverage</th>\n",
       "      <th>education</th>\n",
       "      <th>effective_to_date</th>\n",
       "      <th>employment_status</th>\n",
       "      <th>gender</th>\n",
       "      <th>income</th>\n",
       "      <th>...</th>\n",
       "      <th>months_since_policy_inception</th>\n",
       "      <th>number_of_open_complaints</th>\n",
       "      <th>number_of_policies</th>\n",
       "      <th>policy_type</th>\n",
       "      <th>policy</th>\n",
       "      <th>renew_offer_type</th>\n",
       "      <th>sales_channel</th>\n",
       "      <th>total_claim_amount</th>\n",
       "      <th>vehicle_class</th>\n",
       "      <th>vehicle_size</th>\n",
       "    </tr>\n",
       "  </thead>\n",
       "  <tbody>\n",
       "    <tr>\n",
       "      <th>0</th>\n",
       "      <td>BU79786</td>\n",
       "      <td>Washington</td>\n",
       "      <td>2763.519279</td>\n",
       "      <td>No</td>\n",
       "      <td>Basic</td>\n",
       "      <td>Bachelor</td>\n",
       "      <td>2011-02-24</td>\n",
       "      <td>Employed</td>\n",
       "      <td>F</td>\n",
       "      <td>56274</td>\n",
       "      <td>...</td>\n",
       "      <td>5</td>\n",
       "      <td>0</td>\n",
       "      <td>1</td>\n",
       "      <td>Corporate Auto</td>\n",
       "      <td>Corporate L3</td>\n",
       "      <td>Offer1</td>\n",
       "      <td>Agent</td>\n",
       "      <td>384.811147</td>\n",
       "      <td>Two-Door Car</td>\n",
       "      <td>Medsize</td>\n",
       "    </tr>\n",
       "    <tr>\n",
       "      <th>2</th>\n",
       "      <td>AI49188</td>\n",
       "      <td>Nevada</td>\n",
       "      <td>12887.431650</td>\n",
       "      <td>No</td>\n",
       "      <td>Premium</td>\n",
       "      <td>Bachelor</td>\n",
       "      <td>2011-02-19</td>\n",
       "      <td>Employed</td>\n",
       "      <td>F</td>\n",
       "      <td>48767</td>\n",
       "      <td>...</td>\n",
       "      <td>38</td>\n",
       "      <td>0</td>\n",
       "      <td>2</td>\n",
       "      <td>Personal Auto</td>\n",
       "      <td>Personal L3</td>\n",
       "      <td>Offer1</td>\n",
       "      <td>Agent</td>\n",
       "      <td>566.472247</td>\n",
       "      <td>Two-Door Car</td>\n",
       "      <td>Medsize</td>\n",
       "    </tr>\n",
       "    <tr>\n",
       "      <th>3</th>\n",
       "      <td>WW63253</td>\n",
       "      <td>California</td>\n",
       "      <td>7645.861827</td>\n",
       "      <td>No</td>\n",
       "      <td>Basic</td>\n",
       "      <td>Bachelor</td>\n",
       "      <td>2011-01-20</td>\n",
       "      <td>Unemployed</td>\n",
       "      <td>M</td>\n",
       "      <td>0</td>\n",
       "      <td>...</td>\n",
       "      <td>65</td>\n",
       "      <td>0</td>\n",
       "      <td>7</td>\n",
       "      <td>Corporate Auto</td>\n",
       "      <td>Corporate L2</td>\n",
       "      <td>Offer1</td>\n",
       "      <td>Call Center</td>\n",
       "      <td>529.881344</td>\n",
       "      <td>SUV</td>\n",
       "      <td>Medsize</td>\n",
       "    </tr>\n",
       "    <tr>\n",
       "      <th>4</th>\n",
       "      <td>HB64268</td>\n",
       "      <td>Washington</td>\n",
       "      <td>2813.692575</td>\n",
       "      <td>No</td>\n",
       "      <td>Basic</td>\n",
       "      <td>Bachelor</td>\n",
       "      <td>2011-02-03</td>\n",
       "      <td>Employed</td>\n",
       "      <td>M</td>\n",
       "      <td>43836</td>\n",
       "      <td>...</td>\n",
       "      <td>44</td>\n",
       "      <td>0</td>\n",
       "      <td>1</td>\n",
       "      <td>Personal Auto</td>\n",
       "      <td>Personal L1</td>\n",
       "      <td>Offer1</td>\n",
       "      <td>Agent</td>\n",
       "      <td>138.130879</td>\n",
       "      <td>Four-Door Car</td>\n",
       "      <td>Medsize</td>\n",
       "    </tr>\n",
       "    <tr>\n",
       "      <th>5</th>\n",
       "      <td>OC83172</td>\n",
       "      <td>Oregon</td>\n",
       "      <td>8256.297800</td>\n",
       "      <td>Yes</td>\n",
       "      <td>Basic</td>\n",
       "      <td>Bachelor</td>\n",
       "      <td>2011-01-25</td>\n",
       "      <td>Employed</td>\n",
       "      <td>F</td>\n",
       "      <td>62902</td>\n",
       "      <td>...</td>\n",
       "      <td>94</td>\n",
       "      <td>0</td>\n",
       "      <td>2</td>\n",
       "      <td>Personal Auto</td>\n",
       "      <td>Personal L3</td>\n",
       "      <td>Offer2</td>\n",
       "      <td>Web</td>\n",
       "      <td>159.383042</td>\n",
       "      <td>Two-Door Car</td>\n",
       "      <td>Medsize</td>\n",
       "    </tr>\n",
       "    <tr>\n",
       "      <th>...</th>\n",
       "      <td>...</td>\n",
       "      <td>...</td>\n",
       "      <td>...</td>\n",
       "      <td>...</td>\n",
       "      <td>...</td>\n",
       "      <td>...</td>\n",
       "      <td>...</td>\n",
       "      <td>...</td>\n",
       "      <td>...</td>\n",
       "      <td>...</td>\n",
       "      <td>...</td>\n",
       "      <td>...</td>\n",
       "      <td>...</td>\n",
       "      <td>...</td>\n",
       "      <td>...</td>\n",
       "      <td>...</td>\n",
       "      <td>...</td>\n",
       "      <td>...</td>\n",
       "      <td>...</td>\n",
       "      <td>...</td>\n",
       "      <td>...</td>\n",
       "    </tr>\n",
       "    <tr>\n",
       "      <th>9128</th>\n",
       "      <td>YM19146</td>\n",
       "      <td>California</td>\n",
       "      <td>4100.398533</td>\n",
       "      <td>No</td>\n",
       "      <td>Premium</td>\n",
       "      <td>College</td>\n",
       "      <td>2011-01-06</td>\n",
       "      <td>Employed</td>\n",
       "      <td>F</td>\n",
       "      <td>47761</td>\n",
       "      <td>...</td>\n",
       "      <td>58</td>\n",
       "      <td>0</td>\n",
       "      <td>1</td>\n",
       "      <td>Personal Auto</td>\n",
       "      <td>Personal L2</td>\n",
       "      <td>Offer1</td>\n",
       "      <td>Branch</td>\n",
       "      <td>541.282007</td>\n",
       "      <td>Four-Door Car</td>\n",
       "      <td>Large</td>\n",
       "    </tr>\n",
       "    <tr>\n",
       "      <th>9130</th>\n",
       "      <td>PK87824</td>\n",
       "      <td>California</td>\n",
       "      <td>3096.511217</td>\n",
       "      <td>Yes</td>\n",
       "      <td>Extended</td>\n",
       "      <td>College</td>\n",
       "      <td>2011-02-12</td>\n",
       "      <td>Employed</td>\n",
       "      <td>F</td>\n",
       "      <td>21604</td>\n",
       "      <td>...</td>\n",
       "      <td>28</td>\n",
       "      <td>0</td>\n",
       "      <td>1</td>\n",
       "      <td>Corporate Auto</td>\n",
       "      <td>Corporate L3</td>\n",
       "      <td>Offer1</td>\n",
       "      <td>Branch</td>\n",
       "      <td>379.200000</td>\n",
       "      <td>Four-Door Car</td>\n",
       "      <td>Medsize</td>\n",
       "    </tr>\n",
       "    <tr>\n",
       "      <th>9131</th>\n",
       "      <td>TD14365</td>\n",
       "      <td>California</td>\n",
       "      <td>8163.890428</td>\n",
       "      <td>No</td>\n",
       "      <td>Extended</td>\n",
       "      <td>Bachelor</td>\n",
       "      <td>2011-02-06</td>\n",
       "      <td>Unemployed</td>\n",
       "      <td>M</td>\n",
       "      <td>0</td>\n",
       "      <td>...</td>\n",
       "      <td>37</td>\n",
       "      <td>3</td>\n",
       "      <td>2</td>\n",
       "      <td>Corporate Auto</td>\n",
       "      <td>Corporate L2</td>\n",
       "      <td>Offer1</td>\n",
       "      <td>Branch</td>\n",
       "      <td>790.784983</td>\n",
       "      <td>Four-Door Car</td>\n",
       "      <td>Medsize</td>\n",
       "    </tr>\n",
       "    <tr>\n",
       "      <th>9132</th>\n",
       "      <td>UP19263</td>\n",
       "      <td>California</td>\n",
       "      <td>7524.442436</td>\n",
       "      <td>No</td>\n",
       "      <td>Extended</td>\n",
       "      <td>College</td>\n",
       "      <td>2011-02-03</td>\n",
       "      <td>Employed</td>\n",
       "      <td>M</td>\n",
       "      <td>21941</td>\n",
       "      <td>...</td>\n",
       "      <td>3</td>\n",
       "      <td>0</td>\n",
       "      <td>3</td>\n",
       "      <td>Personal Auto</td>\n",
       "      <td>Personal L2</td>\n",
       "      <td>Offer3</td>\n",
       "      <td>Branch</td>\n",
       "      <td>691.200000</td>\n",
       "      <td>Four-Door Car</td>\n",
       "      <td>Large</td>\n",
       "    </tr>\n",
       "    <tr>\n",
       "      <th>9133</th>\n",
       "      <td>Y167826</td>\n",
       "      <td>California</td>\n",
       "      <td>2611.836866</td>\n",
       "      <td>No</td>\n",
       "      <td>Extended</td>\n",
       "      <td>College</td>\n",
       "      <td>2011-02-14</td>\n",
       "      <td>Unemployed</td>\n",
       "      <td>M</td>\n",
       "      <td>0</td>\n",
       "      <td>...</td>\n",
       "      <td>90</td>\n",
       "      <td>0</td>\n",
       "      <td>1</td>\n",
       "      <td>Corporate Auto</td>\n",
       "      <td>Corporate L3</td>\n",
       "      <td>Offer4</td>\n",
       "      <td>Call Center</td>\n",
       "      <td>369.600000</td>\n",
       "      <td>Two-Door Car</td>\n",
       "      <td>Medsize</td>\n",
       "    </tr>\n",
       "  </tbody>\n",
       "</table>\n",
       "<p>7982 rows × 24 columns</p>\n",
       "</div>"
      ],
      "text/plain": [
       "     customer       state  customer_lifetime_value response  coverage  \\\n",
       "0     BU79786  Washington              2763.519279       No     Basic   \n",
       "2     AI49188      Nevada             12887.431650       No   Premium   \n",
       "3     WW63253  California              7645.861827       No     Basic   \n",
       "4     HB64268  Washington              2813.692575       No     Basic   \n",
       "5     OC83172      Oregon              8256.297800      Yes     Basic   \n",
       "...       ...         ...                      ...      ...       ...   \n",
       "9128  YM19146  California              4100.398533       No   Premium   \n",
       "9130  PK87824  California              3096.511217      Yes  Extended   \n",
       "9131  TD14365  California              8163.890428       No  Extended   \n",
       "9132  UP19263  California              7524.442436       No  Extended   \n",
       "9133  Y167826  California              2611.836866       No  Extended   \n",
       "\n",
       "     education effective_to_date employment_status gender  income  ...  \\\n",
       "0     Bachelor        2011-02-24          Employed      F   56274  ...   \n",
       "2     Bachelor        2011-02-19          Employed      F   48767  ...   \n",
       "3     Bachelor        2011-01-20        Unemployed      M       0  ...   \n",
       "4     Bachelor        2011-02-03          Employed      M   43836  ...   \n",
       "5     Bachelor        2011-01-25          Employed      F   62902  ...   \n",
       "...        ...               ...               ...    ...     ...  ...   \n",
       "9128   College        2011-01-06          Employed      F   47761  ...   \n",
       "9130   College        2011-02-12          Employed      F   21604  ...   \n",
       "9131  Bachelor        2011-02-06        Unemployed      M       0  ...   \n",
       "9132   College        2011-02-03          Employed      M   21941  ...   \n",
       "9133   College        2011-02-14        Unemployed      M       0  ...   \n",
       "\n",
       "     months_since_policy_inception number_of_open_complaints  \\\n",
       "0                                5                         0   \n",
       "2                               38                         0   \n",
       "3                               65                         0   \n",
       "4                               44                         0   \n",
       "5                               94                         0   \n",
       "...                            ...                       ...   \n",
       "9128                            58                         0   \n",
       "9130                            28                         0   \n",
       "9131                            37                         3   \n",
       "9132                             3                         0   \n",
       "9133                            90                         0   \n",
       "\n",
       "      number_of_policies     policy_type        policy  renew_offer_type  \\\n",
       "0                      1  Corporate Auto  Corporate L3            Offer1   \n",
       "2                      2   Personal Auto   Personal L3            Offer1   \n",
       "3                      7  Corporate Auto  Corporate L2            Offer1   \n",
       "4                      1   Personal Auto   Personal L1            Offer1   \n",
       "5                      2   Personal Auto   Personal L3            Offer2   \n",
       "...                  ...             ...           ...               ...   \n",
       "9128                   1   Personal Auto   Personal L2            Offer1   \n",
       "9130                   1  Corporate Auto  Corporate L3            Offer1   \n",
       "9131                   2  Corporate Auto  Corporate L2            Offer1   \n",
       "9132                   3   Personal Auto   Personal L2            Offer3   \n",
       "9133                   1  Corporate Auto  Corporate L3            Offer4   \n",
       "\n",
       "      sales_channel total_claim_amount  vehicle_class vehicle_size  \n",
       "0             Agent         384.811147   Two-Door Car      Medsize  \n",
       "2             Agent         566.472247   Two-Door Car      Medsize  \n",
       "3       Call Center         529.881344            SUV      Medsize  \n",
       "4             Agent         138.130879  Four-Door Car      Medsize  \n",
       "5               Web         159.383042   Two-Door Car      Medsize  \n",
       "...             ...                ...            ...          ...  \n",
       "9128         Branch         541.282007  Four-Door Car        Large  \n",
       "9130         Branch         379.200000  Four-Door Car      Medsize  \n",
       "9131         Branch         790.784983  Four-Door Car      Medsize  \n",
       "9132         Branch         691.200000  Four-Door Car        Large  \n",
       "9133    Call Center         369.600000   Two-Door Car      Medsize  \n",
       "\n",
       "[7982 rows x 24 columns]"
      ]
     },
     "execution_count": 64,
     "metadata": {},
     "output_type": "execute_result"
    }
   ],
   "source": [
    "customer_df = customer_df[customer_df[\"customer_lifetime_value\"] < upper_limit_clv]\n",
    "customer_df = customer_df[customer_df[\"total_claim_amount\"] < upper_limit_tca]\n",
    "\n",
    "customer_df"
   ]
  },
  {
   "cell_type": "markdown",
   "id": "67dcf46b",
   "metadata": {},
   "source": [
    "## 12. Check all columns for NaN values."
   ]
  },
  {
   "cell_type": "code",
   "execution_count": 65,
   "id": "0d69291f",
   "metadata": {},
   "outputs": [
    {
     "data": {
      "text/plain": [
       "customer                         0\n",
       "state                            0\n",
       "customer_lifetime_value          0\n",
       "response                         0\n",
       "coverage                         0\n",
       "education                        0\n",
       "effective_to_date                0\n",
       "employment_status                0\n",
       "gender                           0\n",
       "income                           0\n",
       "location_code                    0\n",
       "marital_status                   0\n",
       "monthly_premium_auto             0\n",
       "months_since_last_claim          0\n",
       "months_since_policy_inception    0\n",
       "number_of_open_complaints        0\n",
       "number_of_policies               0\n",
       "policy_type                      0\n",
       "policy                           0\n",
       "renew_offer_type                 0\n",
       "sales_channel                    0\n",
       "total_claim_amount               0\n",
       "vehicle_class                    0\n",
       "vehicle_size                     0\n",
       "dtype: int64"
      ]
     },
     "execution_count": 65,
     "metadata": {},
     "output_type": "execute_result"
    }
   ],
   "source": [
    "customer_df.isna().sum()"
   ]
  },
  {
   "cell_type": "code",
   "execution_count": null,
   "id": "2a649622",
   "metadata": {},
   "outputs": [],
   "source": []
  }
 ],
 "metadata": {
  "kernelspec": {
   "display_name": "Python 3 (ipykernel)",
   "language": "python",
   "name": "python3"
  },
  "language_info": {
   "codemirror_mode": {
    "name": "ipython",
    "version": 3
   },
   "file_extension": ".py",
   "mimetype": "text/x-python",
   "name": "python",
   "nbconvert_exporter": "python",
   "pygments_lexer": "ipython3",
   "version": "3.9.12"
  }
 },
 "nbformat": 4,
 "nbformat_minor": 5
}
